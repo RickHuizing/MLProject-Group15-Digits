{
 "cells": [
  {
   "cell_type": "code",
   "execution_count": 57,
   "id": "f65587c3-3128-4e33-826b-fc43ab76dd26",
   "metadata": {},
   "outputs": [],
   "source": [
    "import tensorflow.keras.layers as layers\n",
    "from tensorflow.keras.models import Model, Sequential\n",
    "from tensorflow.keras.layers import Conv2D, MaxPool2D, Dense, Flatten\n",
    "import numpy as np\n",
    "import matplotlib.pyplot as plt"
   ]
  },
  {
   "cell_type": "markdown",
   "id": "bba49e53-bcdf-4a50-9e9f-00334208929c",
   "metadata": {},
   "source": [
    "Define a function to create the model for our CNN. The input consists of images shaped 16x15 pixels each. The initial model consists of a single convolutional layer, followed by a max pooling layer, then a flattening layer, ending with two fully connected layers."
   ]
  },
  {
   "cell_type": "code",
   "execution_count": 104,
   "id": "a2684c02-8ab2-4aff-8f5e-ff9caa6ee4ba",
   "metadata": {},
   "outputs": [],
   "source": [
    "def define_model():\n",
    "    input_shape = (16, 15, 1)\n",
    "    model = Sequential([\n",
    "        Conv2D(filters = 32, kernel_size = 3, activation = 'relu', padding = 'same', input_shape = input_shape),\n",
    "        MaxPool2D(pool_size = 2),\n",
    "        Conv2D(filters = 64, kernel_size = 3, activation = 'relu', padding = 'same'),\n",
    "        MaxPool2D(pool_size = 2),\n",
    "        Conv2D(filters = 128, kernel_size = 3, activation = 'relu', padding = 'same'),\n",
    "        MaxPool2D(pool_size = 2),\n",
    "        Flatten(),\n",
    "        Dense(units = 22, activation = 'relu'),\n",
    "        Dense(units = 10, activation = 'softmax')\n",
    "    ])\n",
    "    return model"
   ]
  },
  {
   "cell_type": "code",
   "execution_count": 105,
   "id": "37663c09-dd5c-42d0-92bd-3455133ea067",
   "metadata": {},
   "outputs": [],
   "source": [
    "def compile_model(model):\n",
    "    model.compile(optimizer = 'adam', loss = 'categorical_crossentropy', metrics = ['accuracy'])"
   ]
  },
  {
   "cell_type": "code",
   "execution_count": 106,
   "id": "beee660e-abe2-4777-a20c-053b4f78fa67",
   "metadata": {},
   "outputs": [],
   "source": [
    "def train_model(model, x, y, epochs):\n",
    "    model.fit(x, y, shuffle = True, epochs = epochs)"
   ]
  },
  {
   "cell_type": "code",
   "execution_count": 95,
   "id": "ea3e448c-cebc-48a1-a252-74a8e2ae5120",
   "metadata": {},
   "outputs": [],
   "source": [
    "def load_data(): \n",
    "    raw_data = []\n",
    "    with open('./ProjectDigits_materials/mfeat-pix.txt', 'r') as f:\n",
    "        for line in f:\n",
    "            pixels = []\n",
    "            for c in line:\n",
    "                if c.isdigit():\n",
    "                    pixels.append(int(c))\n",
    "            raw_data.append(pixels)\n",
    "    raw_data = np.array(raw_data)\n",
    "    return raw_data"
   ]
  },
  {
   "cell_type": "code",
   "execution_count": 110,
   "id": "64e4454d-7366-4aca-a266-22fde4a9ff6f",
   "metadata": {},
   "outputs": [],
   "source": [
    "def normalize_data(data):\n",
    "    data.astype(float)\n",
    "    return data / 6"
   ]
  },
  {
   "cell_type": "code",
   "execution_count": 113,
   "id": "dd161273-e90f-4d76-b31b-8b7dd932d381",
   "metadata": {},
   "outputs": [
    {
     "data": {
      "text/plain": [
       "(2000, 240)"
      ]
     },
     "execution_count": 113,
     "metadata": {},
     "output_type": "execute_result"
    }
   ],
   "source": [
    "data = load_data()\n",
    "data = normalize_data(data)\n",
    "data.shape"
   ]
  },
  {
   "cell_type": "code",
   "execution_count": 114,
   "id": "3a5d61cc-bb50-4c05-bdee-5416ad336cfd",
   "metadata": {},
   "outputs": [],
   "source": [
    "def n_image_in_category(data) -> int:\n",
    "    return int(data.shape[0] / 10)"
   ]
  },
  {
   "cell_type": "code",
   "execution_count": 115,
   "id": "e6c5044e-53e8-45f0-a61a-0d94671b2d16",
   "metadata": {},
   "outputs": [],
   "source": [
    "# split the data into train and test sets\n",
    "n_images = n_image_in_category(data)\n",
    "split = int(n_images / 2)\n",
    "\n",
    "#random split\n",
    "# split_indices = [row * n_images + np.random.choice(n_images, split, replace=False) for row in range(10)]\n",
    "\n",
    "# real split\n",
    "split_indices = [np.arange(i * 200, i * 200 + 100) for i in range(10)]\n",
    "\n",
    "split_indices = np.array(split_indices).flatten()\n",
    "train_data = data[split_indices]\n",
    "test_data = np.delete(data, split_indices, axis=0)"
   ]
  },
  {
   "cell_type": "code",
   "execution_count": 116,
   "id": "cb99c38e-aa00-44a8-b30c-2dda78b86750",
   "metadata": {},
   "outputs": [],
   "source": [
    "#sanity checks\n",
    "assert (n_images == 200 and split == 100)\n",
    "assert (train_data.shape == test_data.shape == (1000, 240))"
   ]
  },
  {
   "cell_type": "code",
   "execution_count": 117,
   "id": "58978774-8027-45ed-a549-66abbc49ff30",
   "metadata": {},
   "outputs": [],
   "source": [
    "# Reshape variables to (16 x 15 x 1)\n",
    "train_data = train_data.reshape(train_data.shape[0], 16, 15, 1)\n",
    "test_data = test_data.reshape(test_data.shape[0], 16, 15, 1)\n",
    "\n",
    "# Create train- and test labels, then use one-hot encoding on them\n",
    "train_images = n_image_in_category(train_data)\n",
    "train_labels = np.zeros((train_data.shape[0], 10), dtype=np.int64)\n",
    "for i in range(10):\n",
    "    for j in range(train_images):\n",
    "        train_labels[i * train_images + j, i] = 1\n",
    "\n",
    "test_images = n_image_in_category(test_data)\n",
    "test_labels = np.zeros((test_data.shape[0], 10), dtype=np.int64)\n",
    "for i in range(10):\n",
    "    for j in range(test_images):\n",
    "        test_labels[i * test_images + j, i] = 1"
   ]
  },
  {
   "cell_type": "code",
   "execution_count": 118,
   "id": "da4366e0-fc8e-427b-8199-dee1fda1b255",
   "metadata": {},
   "outputs": [],
   "source": [
    "model = define_model()\n",
    "compile_model(model)"
   ]
  },
  {
   "cell_type": "code",
   "execution_count": 119,
   "id": "dc2031b5-d2b3-4fa4-82d9-ba7f5b14d293",
   "metadata": {
    "scrolled": true
   },
   "outputs": [
    {
     "name": "stdout",
     "output_type": "stream",
     "text": [
      "Epoch 1/50\n",
      "50/50 [==============================] - 1s 6ms/step - loss: 1.7594 - accuracy: 0.3880 - val_loss: 0.9095 - val_accuracy: 0.7170\n",
      "Epoch 2/50\n",
      "50/50 [==============================] - 0s 4ms/step - loss: 0.5352 - accuracy: 0.8380 - val_loss: 0.3248 - val_accuracy: 0.9000\n",
      "Epoch 3/50\n",
      "50/50 [==============================] - 0s 4ms/step - loss: 0.2084 - accuracy: 0.9510 - val_loss: 0.2284 - val_accuracy: 0.9330\n",
      "Epoch 4/50\n",
      "50/50 [==============================] - 0s 4ms/step - loss: 0.1518 - accuracy: 0.9580 - val_loss: 0.1649 - val_accuracy: 0.9560\n",
      "Epoch 5/50\n",
      "50/50 [==============================] - 0s 4ms/step - loss: 0.1004 - accuracy: 0.9720 - val_loss: 0.1420 - val_accuracy: 0.9650\n",
      "Epoch 6/50\n",
      "50/50 [==============================] - 0s 4ms/step - loss: 0.0780 - accuracy: 0.9820 - val_loss: 0.1837 - val_accuracy: 0.9470\n",
      "Epoch 7/50\n",
      "50/50 [==============================] - 0s 4ms/step - loss: 0.0763 - accuracy: 0.9790 - val_loss: 0.1026 - val_accuracy: 0.9720\n",
      "Epoch 8/50\n",
      "50/50 [==============================] - 0s 4ms/step - loss: 0.0314 - accuracy: 0.9920 - val_loss: 0.1063 - val_accuracy: 0.9750\n",
      "Epoch 9/50\n",
      "50/50 [==============================] - 0s 4ms/step - loss: 0.0229 - accuracy: 0.9940 - val_loss: 0.0932 - val_accuracy: 0.9780\n",
      "Epoch 10/50\n",
      "50/50 [==============================] - 0s 4ms/step - loss: 0.0160 - accuracy: 0.9980 - val_loss: 0.1136 - val_accuracy: 0.9690\n",
      "Epoch 11/50\n",
      "50/50 [==============================] - 0s 4ms/step - loss: 0.0210 - accuracy: 0.9930 - val_loss: 0.1198 - val_accuracy: 0.9710\n",
      "Epoch 12/50\n",
      "50/50 [==============================] - 0s 4ms/step - loss: 0.0141 - accuracy: 0.9970 - val_loss: 0.0975 - val_accuracy: 0.9790\n",
      "Epoch 13/50\n",
      "50/50 [==============================] - 0s 4ms/step - loss: 0.0066 - accuracy: 1.0000 - val_loss: 0.1102 - val_accuracy: 0.9720\n",
      "Epoch 14/50\n",
      "50/50 [==============================] - 0s 4ms/step - loss: 0.0028 - accuracy: 1.0000 - val_loss: 0.0956 - val_accuracy: 0.9790\n",
      "Epoch 15/50\n",
      "50/50 [==============================] - 0s 4ms/step - loss: 0.0018 - accuracy: 1.0000 - val_loss: 0.0943 - val_accuracy: 0.9800\n",
      "Epoch 16/50\n",
      "50/50 [==============================] - 0s 4ms/step - loss: 0.0016 - accuracy: 1.0000 - val_loss: 0.0963 - val_accuracy: 0.9780\n",
      "Epoch 17/50\n",
      "50/50 [==============================] - 0s 4ms/step - loss: 0.0013 - accuracy: 1.0000 - val_loss: 0.0964 - val_accuracy: 0.9810\n",
      "Epoch 18/50\n",
      "50/50 [==============================] - 0s 4ms/step - loss: 9.7410e-04 - accuracy: 1.0000 - val_loss: 0.0961 - val_accuracy: 0.9800\n",
      "Epoch 19/50\n",
      "50/50 [==============================] - 0s 4ms/step - loss: 8.8074e-04 - accuracy: 1.0000 - val_loss: 0.0973 - val_accuracy: 0.9800\n",
      "Epoch 20/50\n",
      "50/50 [==============================] - 0s 4ms/step - loss: 9.0307e-04 - accuracy: 1.0000 - val_loss: 0.0974 - val_accuracy: 0.9800\n",
      "Epoch 21/50\n",
      "50/50 [==============================] - 0s 4ms/step - loss: 7.6063e-04 - accuracy: 1.0000 - val_loss: 0.0985 - val_accuracy: 0.9810\n",
      "Epoch 22/50\n",
      "50/50 [==============================] - 0s 4ms/step - loss: 6.5063e-04 - accuracy: 1.0000 - val_loss: 0.0992 - val_accuracy: 0.9810\n",
      "Epoch 23/50\n",
      "50/50 [==============================] - 0s 4ms/step - loss: 5.8079e-04 - accuracy: 1.0000 - val_loss: 0.1000 - val_accuracy: 0.9800\n",
      "Epoch 24/50\n",
      "50/50 [==============================] - 0s 4ms/step - loss: 5.4871e-04 - accuracy: 1.0000 - val_loss: 0.1017 - val_accuracy: 0.9800\n",
      "Epoch 25/50\n",
      "50/50 [==============================] - 0s 4ms/step - loss: 4.9975e-04 - accuracy: 1.0000 - val_loss: 0.1012 - val_accuracy: 0.9800\n",
      "Epoch 26/50\n",
      "50/50 [==============================] - 0s 5ms/step - loss: 4.4733e-04 - accuracy: 1.0000 - val_loss: 0.1018 - val_accuracy: 0.9810\n",
      "Epoch 27/50\n",
      "50/50 [==============================] - 0s 5ms/step - loss: 4.2628e-04 - accuracy: 1.0000 - val_loss: 0.1028 - val_accuracy: 0.9810\n",
      "Epoch 28/50\n",
      "50/50 [==============================] - 0s 5ms/step - loss: 4.0215e-04 - accuracy: 1.0000 - val_loss: 0.1038 - val_accuracy: 0.9790\n",
      "Epoch 29/50\n",
      "50/50 [==============================] - 0s 4ms/step - loss: 3.7506e-04 - accuracy: 1.0000 - val_loss: 0.1042 - val_accuracy: 0.9800\n",
      "Epoch 30/50\n",
      "50/50 [==============================] - 0s 4ms/step - loss: 3.4604e-04 - accuracy: 1.0000 - val_loss: 0.1044 - val_accuracy: 0.9810\n",
      "Epoch 31/50\n",
      "50/50 [==============================] - 0s 4ms/step - loss: 3.2157e-04 - accuracy: 1.0000 - val_loss: 0.1051 - val_accuracy: 0.9810\n",
      "Epoch 32/50\n",
      "50/50 [==============================] - 0s 4ms/step - loss: 3.1120e-04 - accuracy: 1.0000 - val_loss: 0.1060 - val_accuracy: 0.9810\n",
      "Epoch 33/50\n",
      "50/50 [==============================] - 0s 4ms/step - loss: 2.7619e-04 - accuracy: 1.0000 - val_loss: 0.1056 - val_accuracy: 0.9810\n",
      "Epoch 34/50\n",
      "50/50 [==============================] - 0s 4ms/step - loss: 2.6294e-04 - accuracy: 1.0000 - val_loss: 0.1066 - val_accuracy: 0.9800\n",
      "Epoch 35/50\n",
      "50/50 [==============================] - 0s 4ms/step - loss: 2.4758e-04 - accuracy: 1.0000 - val_loss: 0.1071 - val_accuracy: 0.9800\n",
      "Epoch 36/50\n",
      "50/50 [==============================] - 0s 4ms/step - loss: 2.3217e-04 - accuracy: 1.0000 - val_loss: 0.1081 - val_accuracy: 0.9800\n",
      "Epoch 37/50\n",
      "50/50 [==============================] - 0s 4ms/step - loss: 2.2532e-04 - accuracy: 1.0000 - val_loss: 0.1080 - val_accuracy: 0.9810\n",
      "Epoch 38/50\n",
      "50/50 [==============================] - 0s 4ms/step - loss: 2.0904e-04 - accuracy: 1.0000 - val_loss: 0.1086 - val_accuracy: 0.9810\n",
      "Epoch 39/50\n",
      "50/50 [==============================] - 0s 4ms/step - loss: 1.9478e-04 - accuracy: 1.0000 - val_loss: 0.1094 - val_accuracy: 0.9810\n",
      "Epoch 40/50\n",
      "50/50 [==============================] - 0s 4ms/step - loss: 1.8406e-04 - accuracy: 1.0000 - val_loss: 0.1098 - val_accuracy: 0.9810\n",
      "Epoch 41/50\n",
      "50/50 [==============================] - 0s 4ms/step - loss: 1.7279e-04 - accuracy: 1.0000 - val_loss: 0.1099 - val_accuracy: 0.9800\n",
      "Epoch 42/50\n",
      "50/50 [==============================] - 0s 4ms/step - loss: 1.6744e-04 - accuracy: 1.0000 - val_loss: 0.1104 - val_accuracy: 0.9810\n",
      "Epoch 43/50\n",
      "50/50 [==============================] - 0s 4ms/step - loss: 1.5241e-04 - accuracy: 1.0000 - val_loss: 0.1105 - val_accuracy: 0.9810\n",
      "Epoch 44/50\n",
      "50/50 [==============================] - 0s 4ms/step - loss: 1.4753e-04 - accuracy: 1.0000 - val_loss: 0.1116 - val_accuracy: 0.9800\n",
      "Epoch 45/50\n",
      "50/50 [==============================] - 0s 4ms/step - loss: 1.4243e-04 - accuracy: 1.0000 - val_loss: 0.1116 - val_accuracy: 0.9800\n",
      "Epoch 46/50\n",
      "50/50 [==============================] - 0s 4ms/step - loss: 1.3812e-04 - accuracy: 1.0000 - val_loss: 0.1128 - val_accuracy: 0.9800\n",
      "Epoch 47/50\n",
      "50/50 [==============================] - 0s 4ms/step - loss: 1.2636e-04 - accuracy: 1.0000 - val_loss: 0.1123 - val_accuracy: 0.9800\n",
      "Epoch 48/50\n",
      "50/50 [==============================] - 0s 4ms/step - loss: 1.2302e-04 - accuracy: 1.0000 - val_loss: 0.1132 - val_accuracy: 0.9800\n",
      "Epoch 49/50\n",
      "50/50 [==============================] - 0s 4ms/step - loss: 1.1812e-04 - accuracy: 1.0000 - val_loss: 0.1140 - val_accuracy: 0.9800\n",
      "Epoch 50/50\n",
      "50/50 [==============================] - 0s 4ms/step - loss: 1.1143e-04 - accuracy: 1.0000 - val_loss: 0.1140 - val_accuracy: 0.9810\n",
      "INFO:tensorflow:Assets written to: cnn_digits.model\\assets\n"
     ]
    },
    {
     "name": "stderr",
     "output_type": "stream",
     "text": [
      "INFO:tensorflow:Assets written to: cnn_digits.model\\assets\n"
     ]
    }
   ],
   "source": [
    "history = model.fit(train_data, train_labels, validation_data = (test_data, test_labels), batch_size = 20, epochs = 50)\n",
    "model.save(\"cnn_digits.model\")"
   ]
  },
  {
   "cell_type": "code",
   "execution_count": 120,
   "id": "803dbbfb-e544-4ebf-be65-bc67106b6642",
   "metadata": {},
   "outputs": [
    {
     "data": {
      "text/plain": [
       "Text(0.5, 1.0, 'Accuracy')"
      ]
     },
     "execution_count": 120,
     "metadata": {},
     "output_type": "execute_result"
    },
    {
     "data": {
      "image/png": "[encoded data removed]",
      "text/plain": [
       "<Figure size 2000x800 with 1 Axes>"
      ]
     },
     "metadata": {},
     "output_type": "display_data"
    }
   ],
   "source": [
    "fig = plt.figure(figsize=(20, 8))\n",
    "\n",
    "acc_plot = fig.add_subplot(121)\n",
    "acc_plot.plot(history.history['accuracy'], label = str('Training accuracy'))\n",
    "acc_plot.plot(history.history['val_accuracy'], label = str('Testing accuracy'))\n",
    "plt.legend()\n",
    "plt.title('Accuracy')"
   ]
  },
  {
   "cell_type": "code",
   "execution_count": null,
   "id": "13e83cee-7b40-445c-8a74-313cb08f9a14",
   "metadata": {},
   "outputs": [],
   "source": []
  }
 ],
 "metadata": {
  "kernelspec": {
   "display_name": "Python 3 (ipykernel)",
   "language": "python",
   "name": "python3"
  },
  "language_info": {
   "codemirror_mode": {
    "name": "ipython",
    "version": 3
   },
   "file_extension": ".py",
   "mimetype": "text/x-python",
   "name": "python",
   "nbconvert_exporter": "python",
   "pygments_lexer": "ipython3",
   "version": "3.11.2"
  }
 },
 "nbformat": 4,
 "nbformat_minor": 5
}
