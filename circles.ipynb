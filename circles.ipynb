{
 "cells": [
  {
   "cell_type": "code",
   "execution_count": 12,
   "id": "cabd40f5-baa7-4dd6-9505-aa503c5ea035",
   "metadata": {},
   "outputs": [],
   "source": [
    "import numpy as np\n",
    "import matplotlib.pyplot as plt\n",
    "import cv2"
   ]
  },
  {
   "cell_type": "code",
   "execution_count": 13,
   "id": "d0e60c89-cf18-4b6d-b23c-40f09b35c5dd",
   "metadata": {},
   "outputs": [],
   "source": [
    "def threshold_image(img):\n",
    "    img = np.float32(img)\n",
    "    [thresh, img] = cv2.threshold(img, 0, 6, cv2.THRESH_BINARY)\n",
    "    return img"
   ]
  },
  {
   "cell_type": "code",
   "execution_count": 14,
   "id": "16383980-f049-4070-a178-d5f6bf9cb8c2",
   "metadata": {},
   "outputs": [
    {
     "data": {
      "text/plain": [
       "<matplotlib.image.AxesImage at 0x2c518b1c750>"
      ]
     },
     "execution_count": 14,
     "metadata": {},
     "output_type": "execute_result"
    },
    {
     "data": {
      "image/png": "[encoded data removed]",
      "text/plain": [
       "<Figure size 640x480 with 1 Axes>"
      ]
     },
     "metadata": {},
     "output_type": "display_data"
    }
   ],
   "source": [
    "raw_data = []\n",
    "with open('./ProjectDigits_materials/mfeat-pix.txt', 'r') as f:\n",
    "    for line in f:\n",
    "        pixels = []\n",
    "        for c in line:\n",
    "            if c.isdigit():\n",
    "                pixels.append(int(c))\n",
    "        raw_data.append(pixels)\n",
    "raw_data = np.array(raw_data)\n",
    "\n",
    "test_img = raw_data[1750].reshape(16, 15)\n",
    "\n",
    "img = threshold_image(test_img)\n",
    "\n",
    "fig = plt.figure()\n",
    "plt.imshow(img, cmap='gray', vmin=0, vmax=6)"
   ]
  },
  {
   "cell_type": "code",
   "execution_count": 15,
   "id": "745407c9-b347-4ce0-bb69-d034b6dc44f0",
   "metadata": {},
   "outputs": [],
   "source": [
    "def count_circles(img):\n",
    "    img = threshold_image(img)\n",
    "    img = cv2.convertScaleAbs(img)\n",
    "    \n",
    "    contours = cv2.findContours(img, cv2.RETR_TREE, cv2.CHAIN_APPROX_SIMPLE)\n",
    "    hierarchy = contours[1] if len(contours) == 2 else contours[2]\n",
    "    contours = contours[0] if len(contours) == 2 else contours[1]\n",
    "    \n",
    "    hierarchy = hierarchy[0]\n",
    "    \n",
    "    count = 0\n",
    "    result = img.copy()\n",
    "    result = cv2.merge([result, result, result])\n",
    "    \n",
    "    for component in zip(contours, hierarchy):\n",
    "        contour_component = component[0]\n",
    "        hierarchy_component = component[1]\n",
    "    \n",
    "        if (hierarchy_component[3] > -1) & (hierarchy_component[2] < 0):\n",
    "            count += 1\n",
    "            cv2.drawContours(result, [contour_component], 0, (0, 0, 255), 2)\n",
    "    \n",
    "    return count"
   ]
  },
  {
   "cell_type": "code",
   "execution_count": 19,
   "id": "f42a3cca-a7f8-42a4-953e-89d6c14eea68",
   "metadata": {},
   "outputs": [],
   "source": [
    "def get_circle_data(data):\n",
    "    counter = 0\n",
    "    circle_counts = []\n",
    "    \n",
    "    for digit in data:\n",
    "        img = digit.reshape(16, 15)\n",
    "        circle_count = count_circles(img)\n",
    "        circle_counts.append(circle_count)\n",
    "        #print(\"Circles in digit \", counter, \": \", circle_count)\n",
    "        counter += 1\n",
    "\n",
    "    circle_counts = np.array(circle_counts)\n",
    "    return circle_counts"
   ]
  },
  {
   "cell_type": "code",
   "execution_count": 20,
   "id": "724d25b7-ed1b-4866-ab3e-361c556a2423",
   "metadata": {},
   "outputs": [
    {
     "name": "stdout",
     "output_type": "stream",
     "text": [
      "[1 1 1 ... 1 1 1]\n"
     ]
    }
   ],
   "source": [
    "circle_data = get_circle_data(raw_data)"
   ]
  },
  {
   "cell_type": "code",
   "execution_count": null,
   "id": "a2b23bd2-a45f-4b52-ad0c-9ce5986884cc",
   "metadata": {},
   "outputs": [],
   "source": []
  }
 ],
 "metadata": {
  "kernelspec": {
   "display_name": "Python 3 (ipykernel)",
   "language": "python",
   "name": "python3"
  },
  "language_info": {
   "codemirror_mode": {
    "name": "ipython",
    "version": 3
   },
   "file_extension": ".py",
   "mimetype": "text/x-python",
   "name": "python",
   "nbconvert_exporter": "python",
   "pygments_lexer": "ipython3",
   "version": "3.11.2"
  }
 },
 "nbformat": 4,
 "nbformat_minor": 5
}
