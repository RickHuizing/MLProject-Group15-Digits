{
 "cells": [
  {
   "cell_type": "code",
   "execution_count": 1,
   "id": "cabd40f5-baa7-4dd6-9505-aa503c5ea035",
   "metadata": {
    "ExecuteTime": {
     "end_time": "2024-02-03T12:41:40.275960Z",
     "start_time": "2024-02-03T12:41:39.834670Z"
    }
   },
   "outputs": [],
   "source": [
    "import numpy as np\n",
    "import matplotlib.pyplot as plt\n",
    "import cv2\n",
    "\n",
    "import ml_utils"
   ]
  },
  {
   "cell_type": "code",
   "execution_count": 2,
   "id": "d0e60c89-cf18-4b6d-b23c-40f09b35c5dd",
   "metadata": {
    "ExecuteTime": {
     "end_time": "2024-02-03T12:41:40.282703Z",
     "start_time": "2024-02-03T12:41:40.278499Z"
    }
   },
   "outputs": [],
   "source": [
    "def threshold_image(img, threshold=0):\n",
    "    img = np.float32(img)\n",
    "    [thresh, img] = cv2.threshold(img, threshold, 6, cv2.THRESH_BINARY)\n",
    "    return img"
   ]
  },
  {
   "cell_type": "code",
   "execution_count": 6,
   "id": "16383980-f049-4070-a178-d5f6bf9cb8c2",
   "metadata": {
    "ExecuteTime": {
     "end_time": "2024-02-03T12:42:07.121068Z",
     "start_time": "2024-02-03T12:42:06.810006Z"
    }
   },
   "outputs": [
    {
     "data": {
      "text/plain": "<matplotlib.image.AxesImage at 0x14611e8f0>"
     },
     "execution_count": 6,
     "metadata": {},
     "output_type": "execute_result"
    },
    {
     "data": {
      "text/plain": "<Figure size 640x480 with 1 Axes>",
      "image/png": "[encoded data removed]"
     },
     "metadata": {},
     "output_type": "display_data"
    }
   ],
   "source": [
    "raw_data = ml_utils.load_data()\n",
    "\n",
    "test_img = raw_data[1750].reshape(16,15)\n",
    "\n",
    "img = threshold_image(test_img)\n",
    "\n",
    "fig = plt.figure()\n",
    "plt.imshow(img, cmap='gray', vmin=0, vmax=1)"
   ]
  },
  {
   "cell_type": "code",
   "execution_count": 7,
   "id": "745407c9-b347-4ce0-bb69-d034b6dc44f0",
   "metadata": {
    "ExecuteTime": {
     "end_time": "2024-02-03T12:42:12.172491Z",
     "start_time": "2024-02-03T12:42:12.167191Z"
    }
   },
   "outputs": [],
   "source": [
    "def count_circles(img, threshold=0):\n",
    "    img = threshold_image(img, threshold)\n",
    "    img = cv2.convertScaleAbs(img)\n",
    "\n",
    "    contours = cv2.findContours(img, cv2.RETR_TREE, cv2.CHAIN_APPROX_SIMPLE)\n",
    "    hierarchy = contours[1] if len(contours) == 2 else contours[2]\n",
    "    contours = contours[0] if len(contours) == 2 else contours[1]\n",
    "\n",
    "    hierarchy = hierarchy[0]\n",
    "\n",
    "    count = 0\n",
    "    result = img.copy()\n",
    "    result = cv2.merge([result, result, result])\n",
    "\n",
    "    for component in zip(contours, hierarchy):\n",
    "        contour_component = component[0]\n",
    "        hierarchy_component = component[1]\n",
    "\n",
    "        if (hierarchy_component[3] > -1) & (hierarchy_component[2] < 0):\n",
    "            count += 1\n",
    "            cv2.drawContours(result, [contour_component], 0, (0, 0, 255), 2)\n",
    "\n",
    "    return count"
   ]
  },
  {
   "cell_type": "code",
   "execution_count": 8,
   "id": "f42a3cca-a7f8-42a4-953e-89d6c14eea68",
   "metadata": {
    "ExecuteTime": {
     "end_time": "2024-02-03T12:42:20.384179Z",
     "start_time": "2024-02-03T12:42:20.377958Z"
    }
   },
   "outputs": [],
   "source": [
    "def get_circle_data(data, threshold=0):\n",
    "    counter = 0\n",
    "    circle_counts = []\n",
    "\n",
    "    for digit in data:\n",
    "        img = digit.reshape(16, 15)\n",
    "        circle_count = count_circles(img, threshold)\n",
    "        circle_counts.append(circle_count)\n",
    "        #print(\"Circles in digit \", counter, \": \", circle_count)\n",
    "        counter += 1\n",
    "\n",
    "    circle_counts = np.array(circle_counts)\n",
    "    return circle_counts"
   ]
  },
  {
   "cell_type": "code",
   "execution_count": 9,
   "id": "724d25b7-ed1b-4866-ab3e-361c556a2423",
   "metadata": {
    "ExecuteTime": {
     "end_time": "2024-02-03T12:42:27.927803Z",
     "start_time": "2024-02-03T12:42:27.846718Z"
    }
   },
   "outputs": [],
   "source": [
    "circle_data = get_circle_data(raw_data)"
   ]
  },
  {
   "cell_type": "code",
   "outputs": [
    {
     "name": "stdout",
     "output_type": "stream",
     "text": [
      "3\n"
     ]
    }
   ],
   "source": [
    "print(max(circle_data))"
   ],
   "metadata": {
    "collapsed": false,
    "ExecuteTime": {
     "end_time": "2024-02-03T12:42:28.533173Z",
     "start_time": "2024-02-03T12:42:28.521347Z"
    }
   },
   "id": "9c4f95e3c8f97aa5",
   "execution_count": 10
  },
  {
   "cell_type": "code",
   "execution_count": 11,
   "id": "a2b23bd2-a45f-4b52-ad0c-9ce5986884cc",
   "metadata": {
    "ExecuteTime": {
     "end_time": "2024-02-03T12:42:29.789663Z",
     "start_time": "2024-02-03T12:42:29.785043Z"
    }
   },
   "outputs": [
    {
     "name": "stdout",
     "output_type": "stream",
     "text": [
      "0 [1, 196, 2, 1]\n",
      "1 [197, 3, 0, 0]\n",
      "2 [159, 33, 7, 1]\n",
      "3 [191, 8, 1, 0]\n",
      "4 [164, 30, 4, 2]\n",
      "5 [162, 32, 3, 3]\n",
      "6 [3, 191, 6, 0]\n",
      "7 [195, 4, 1, 0]\n",
      "8 [0, 5, 189, 6]\n",
      "9 [4, 191, 5, 0]\n"
     ]
    }
   ],
   "source": [
    "\n",
    "for digit in range(10):\n",
    "    results = [0 for _ in range(max(circle_data + 1))]\n",
    "    for i in range(200):\n",
    "        results[circle_data[digit * 200 + i]] += 1\n",
    "    print(digit, results)\n"
   ]
  },
  {
   "cell_type": "code",
   "outputs": [],
   "source": [
    "train_set = [raw_data[x * 200:x * 200 + 100] for x in range(10)]\n",
    "train_set = np.array(train_set).reshape((1000, 16, 15))\n",
    "# plt.imshow(train_set[99], cmap='gray', vmin=0, vmax=6)\n",
    "# plt.show()\n",
    "# plt.imshow(train_set[100], cmap='gray', vmin=0, vmax=6)\n",
    "# plt.show()\n"
   ],
   "metadata": {
    "collapsed": false,
    "ExecuteTime": {
     "end_time": "2024-02-03T12:46:16.047536Z",
     "start_time": "2024-02-03T12:46:16.039294Z"
    }
   },
   "id": "f9abb10e4a6a5497",
   "execution_count": 24
  },
  {
   "cell_type": "code",
   "outputs": [],
   "source": [
    "results = []\n",
    "for threshold in range(10):\n",
    "    results.append(get_circle_data(train_set, threshold=threshold / 10))\n"
   ],
   "metadata": {
    "collapsed": false,
    "ExecuteTime": {
     "end_time": "2024-02-03T12:46:19.361715Z",
     "start_time": "2024-02-03T12:46:19.055072Z"
    }
   },
   "id": "dd9cd0ff64a00bd8",
   "execution_count": 25
  },
  {
   "cell_type": "code",
   "outputs": [
    {
     "name": "stdout",
     "output_type": "stream",
     "text": [
      "threshold 0.0\n",
      "0 [0, 99, 1, 0]\n",
      "1 [98, 2, 0, 0]\n",
      "2 [81, 16, 2, 1]\n",
      "3 [96, 4, 0, 0]\n",
      "4 [78, 19, 3, 0]\n",
      "5 [83, 13, 2, 2]\n",
      "6 [0, 96, 4, 0]\n",
      "7 [99, 0, 1, 0]\n",
      "8 [0, 3, 92, 5]\n",
      "9 [1, 96, 3, 0]\n",
      "threshold 0.1\n",
      "0 [0, 99, 1, 0]\n",
      "1 [98, 2, 0, 0]\n",
      "2 [81, 16, 2, 1]\n",
      "3 [96, 4, 0, 0]\n",
      "4 [78, 19, 3, 0]\n",
      "5 [83, 13, 2, 2]\n",
      "6 [0, 96, 4, 0]\n",
      "7 [99, 0, 1, 0]\n",
      "8 [0, 3, 92, 5]\n",
      "9 [1, 96, 3, 0]\n",
      "threshold 0.2\n",
      "0 [0, 100, 0, 0, 0, 0]\n",
      "1 [98, 2, 0, 0, 0, 0]\n",
      "2 [89, 10, 1, 0, 0, 0]\n",
      "3 [99, 1, 0, 0, 0, 0]\n",
      "4 [89, 10, 1, 0, 0, 0]\n",
      "5 [90, 7, 3, 0, 0, 0]\n",
      "6 [0, 100, 0, 0, 0, 0]\n",
      "7 [99, 1, 0, 0, 0, 0]\n",
      "8 [0, 3, 95, 1, 0, 1]\n",
      "9 [2, 98, 0, 0, 0, 0]\n",
      "threshold 0.3\n",
      "0 [0, 100, 0, 0, 0, 0]\n",
      "1 [98, 2, 0, 0, 0, 0]\n",
      "2 [89, 10, 1, 0, 0, 0]\n",
      "3 [99, 1, 0, 0, 0, 0]\n",
      "4 [89, 10, 1, 0, 0, 0]\n",
      "5 [90, 7, 3, 0, 0, 0]\n",
      "6 [0, 100, 0, 0, 0, 0]\n",
      "7 [99, 1, 0, 0, 0, 0]\n",
      "8 [0, 3, 95, 1, 0, 1]\n",
      "9 [2, 98, 0, 0, 0, 0]\n",
      "threshold 0.4\n",
      "0 [0, 100, 0, 0, 0]\n",
      "1 [99, 1, 0, 0, 0]\n",
      "2 [97, 3, 0, 0, 0]\n",
      "3 [100, 0, 0, 0, 0]\n",
      "4 [93, 6, 1, 0, 0]\n",
      "5 [95, 4, 1, 0, 0]\n",
      "6 [0, 99, 1, 0, 0]\n",
      "7 [99, 1, 0, 0, 0]\n",
      "8 [0, 6, 93, 0, 1]\n",
      "9 [2, 98, 0, 0, 0]\n",
      "threshold 0.5\n",
      "0 [1, 99, 0, 0, 0]\n",
      "1 [99, 1, 0, 0, 0]\n",
      "2 [99, 1, 0, 0, 0]\n",
      "3 [100, 0, 0, 0, 0]\n",
      "4 [97, 3, 0, 0, 0]\n",
      "5 [99, 1, 0, 0, 0]\n",
      "6 [0, 99, 1, 0, 0]\n",
      "7 [100, 0, 0, 0, 0]\n",
      "8 [0, 7, 92, 0, 1]\n",
      "9 [1, 99, 0, 0, 0]\n",
      "threshold 0.6\n",
      "0 [1, 99, 0, 0, 0]\n",
      "1 [99, 1, 0, 0, 0]\n",
      "2 [99, 1, 0, 0, 0]\n",
      "3 [100, 0, 0, 0, 0]\n",
      "4 [97, 3, 0, 0, 0]\n",
      "5 [99, 1, 0, 0, 0]\n",
      "6 [0, 99, 1, 0, 0]\n",
      "7 [100, 0, 0, 0, 0]\n",
      "8 [0, 7, 92, 0, 1]\n",
      "9 [1, 99, 0, 0, 0]\n",
      "threshold 0.7\n",
      "0 [9, 91, 0, 0]\n",
      "1 [99, 1, 0, 0]\n",
      "2 [99, 1, 0, 0]\n",
      "3 [100, 0, 0, 0]\n",
      "4 [98, 2, 0, 0]\n",
      "5 [100, 0, 0, 0]\n",
      "6 [17, 83, 0, 0]\n",
      "7 [100, 0, 0, 0]\n",
      "8 [7, 36, 56, 1]\n",
      "9 [3, 97, 0, 0]\n",
      "threshold 0.8\n",
      "0 [9, 91, 0, 0]\n",
      "1 [99, 1, 0, 0]\n",
      "2 [99, 1, 0, 0]\n",
      "3 [100, 0, 0, 0]\n",
      "4 [98, 2, 0, 0]\n",
      "5 [100, 0, 0, 0]\n",
      "6 [17, 83, 0, 0]\n",
      "7 [100, 0, 0, 0]\n",
      "8 [7, 36, 56, 1]\n",
      "9 [3, 97, 0, 0]\n",
      "threshold 0.9\n",
      "0 [12, 88, 0]\n",
      "1 [98, 2, 0]\n",
      "2 [99, 1, 0]\n",
      "3 [100, 0, 0]\n",
      "4 [100, 0, 0]\n",
      "5 [100, 0, 0]\n",
      "6 [17, 83, 0]\n",
      "7 [100, 0, 0]\n",
      "8 [13, 33, 54]\n",
      "9 [7, 93, 0]\n"
     ]
    }
   ],
   "source": [
    "for threshold, circle_data in enumerate(results):\n",
    "    print(f'threshold {threshold / 10}')\n",
    "    for digit in range(10):\n",
    "        circle_counts = [0 for _ in range(max(circle_data + 1))]\n",
    "        for i in range(100):\n",
    "            circle_counts[circle_data[digit * 100 + i]] += 1\n",
    "        print(digit, circle_counts)"
   ],
   "metadata": {
    "collapsed": false,
    "ExecuteTime": {
     "end_time": "2024-02-03T12:46:22.250458Z",
     "start_time": "2024-02-03T12:46:22.241026Z"
    }
   },
   "id": "18e93d73f37a0e44",
   "execution_count": 26
  },
  {
   "cell_type": "code",
   "outputs": [
    {
     "data": {
      "text/plain": "(10, 1000)"
     },
     "execution_count": 31,
     "metadata": {},
     "output_type": "execute_result"
    }
   ],
   "source": [
    "results=np.array(results)\n",
    "results.shape"
   ],
   "metadata": {
    "collapsed": false,
    "ExecuteTime": {
     "end_time": "2024-02-03T12:47:27.831184Z",
     "start_time": "2024-02-03T12:47:27.736318Z"
    }
   },
   "id": "eb3841b1252414c1",
   "execution_count": 31
  },
  {
   "cell_type": "code",
   "outputs": [
    {
     "name": "stdout",
     "output_type": "stream",
     "text": [
      "threshold 0.0\n",
      "918\n",
      "threshold 0.1\n",
      "918\n",
      "threshold 0.2\n",
      "957\n",
      "threshold 0.3\n",
      "957\n",
      "threshold 0.4\n",
      "973\n",
      "threshold 0.5\n",
      "983\n",
      "threshold 0.6\n",
      "983\n",
      "threshold 0.7\n",
      "923\n",
      "threshold 0.8\n",
      "923\n",
      "threshold 0.9\n",
      "915\n"
     ]
    }
   ],
   "source": [
    "expected = [1, 0, 0, 0, 0, 0, 1, 0, 2, 1]\n",
    "as_expected_arr = np.zeros(results.shape[0])\n",
    "for threshold, circle_data in enumerate(results):\n",
    "    print(f'threshold {threshold / 10}')\n",
    "    as_expected = 0\n",
    "    for digit in range(10):\n",
    "        circle_counts = [0 for _ in range(max(circle_data + 1))]\n",
    "        for i in range(100):\n",
    "            if circle_data[digit * 100 + i] == expected[digit]: as_expected+=1\n",
    "    print(as_expected)\n",
    "    as_expected_arr[threshold] = as_expected"
   ],
   "metadata": {
    "collapsed": false,
    "ExecuteTime": {
     "end_time": "2024-02-03T12:48:10.446564Z",
     "start_time": "2024-02-03T12:48:10.425254Z"
    }
   },
   "id": "57efee41654ef41f",
   "execution_count": 32
  },
  {
   "cell_type": "code",
   "outputs": [],
   "source": [],
   "metadata": {
    "collapsed": false
   },
   "id": "d97b8342d9e3380b"
  },
  {
   "cell_type": "code",
   "outputs": [
    {
     "name": "stdout",
     "output_type": "stream",
     "text": [
      "threshold with the best results: 0.5\n"
     ]
    }
   ],
   "source": [
    "best_threshold=np.argmax(as_expected_arr)/10\n",
    "print(f'threshold with the best results: {best_threshold}')"
   ],
   "metadata": {
    "collapsed": false,
    "ExecuteTime": {
     "end_time": "2024-02-03T12:50:53.426730Z",
     "start_time": "2024-02-03T12:50:53.416711Z"
    }
   },
   "id": "9178a91f4aec0a42",
   "execution_count": 41
  }
 ],
 "metadata": {
  "kernelspec": {
   "display_name": "Python 3 (ipykernel)",
   "language": "python",
   "name": "python3"
  },
  "language_info": {
   "codemirror_mode": {
    "name": "ipython",
    "version": 3
   },
   "file_extension": ".py",
   "mimetype": "text/x-python",
   "name": "python",
   "nbconvert_exporter": "python",
   "pygments_lexer": "ipython3",
   "version": "3.11.2"
  }
 },
 "nbformat": 4,
 "nbformat_minor": 5
}
