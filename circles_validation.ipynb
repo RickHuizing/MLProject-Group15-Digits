{
 "cells": [
  {
   "cell_type": "code",
   "execution_count": 1,
   "id": "cabd40f5-baa7-4dd6-9505-aa503c5ea035",
   "metadata": {
    "ExecuteTime": {
     "end_time": "2024-02-03T13:22:49.942548Z",
     "start_time": "2024-02-03T13:22:49.547516Z"
    }
   },
   "outputs": [],
   "source": [
    "import numpy as np\n",
    "import matplotlib.pyplot as plt\n",
    "\n",
    "import ml_utils\n",
    "import circle_utils"
   ]
  },
  {
   "cell_type": "code",
   "execution_count": 2,
   "id": "16383980-f049-4070-a178-d5f6bf9cb8c2",
   "metadata": {
    "ExecuteTime": {
     "end_time": "2024-02-03T13:22:50.268124Z",
     "start_time": "2024-02-03T13:22:49.944053Z"
    }
   },
   "outputs": [
    {
     "data": {
      "text/plain": "<matplotlib.image.AxesImage at 0x14911b760>"
     },
     "execution_count": 2,
     "metadata": {},
     "output_type": "execute_result"
    },
    {
     "data": {
      "text/plain": "<Figure size 640x480 with 1 Axes>",
      "image/png": "[encoded data removed]"
     },
     "metadata": {},
     "output_type": "display_data"
    }
   ],
   "source": [
    "raw_data = ml_utils.load_data()\n",
    "\n",
    "test_img = raw_data[1750].reshape(16,15)\n",
    "\n",
    "img = circle_utils.threshold_image(test_img)\n",
    "\n",
    "fig = plt.figure()\n",
    "plt.imshow(img, cmap='gray', vmin=0, vmax=1)"
   ]
  },
  {
   "cell_type": "code",
   "execution_count": 3,
   "id": "724d25b7-ed1b-4866-ab3e-361c556a2423",
   "metadata": {
    "ExecuteTime": {
     "end_time": "2024-02-03T13:22:50.338264Z",
     "start_time": "2024-02-03T13:22:50.267641Z"
    }
   },
   "outputs": [],
   "source": [
    "circle_data = circle_utils.get_circle_data(raw_data)"
   ]
  },
  {
   "cell_type": "code",
   "outputs": [
    {
     "data": {
      "text/plain": "(2000,)"
     },
     "execution_count": 4,
     "metadata": {},
     "output_type": "execute_result"
    }
   ],
   "source": [
    "circle_data.shape"
   ],
   "metadata": {
    "collapsed": false,
    "ExecuteTime": {
     "end_time": "2024-02-03T13:22:50.343970Z",
     "start_time": "2024-02-03T13:22:50.339429Z"
    }
   },
   "id": "9c4f95e3c8f97aa5",
   "execution_count": 4
  },
  {
   "cell_type": "code",
   "execution_count": 5,
   "id": "a2b23bd2-a45f-4b52-ad0c-9ce5986884cc",
   "metadata": {
    "ExecuteTime": {
     "end_time": "2024-02-03T13:22:50.354425Z",
     "start_time": "2024-02-03T13:22:50.347448Z"
    }
   },
   "outputs": [
    {
     "name": "stdout",
     "output_type": "stream",
     "text": [
      "0 [3, 197, 0, 0, 0]\n",
      "1 [199, 1, 0, 0, 0]\n",
      "2 [197, 3, 0, 0, 0]\n",
      "3 [200, 0, 0, 0, 0]\n",
      "4 [197, 3, 0, 0, 0]\n",
      "5 [198, 2, 0, 0, 0]\n",
      "6 [2, 197, 1, 0, 0]\n",
      "7 [199, 1, 0, 0, 0]\n",
      "8 [0, 10, 189, 0, 1]\n",
      "9 [6, 194, 0, 0, 0]\n"
     ]
    }
   ],
   "source": [
    "for digit in range(10):\n",
    "    results = [0 for _ in range(max(circle_data + 1))]\n",
    "    for i in range(200):\n",
    "        results[circle_data[digit * 200 + i]] += 1\n",
    "    print(digit, results)"
   ]
  },
  {
   "cell_type": "code",
   "outputs": [],
   "source": [
    "train_set, test_set = ml_utils.train_test_split(raw_data)\n",
    "train_set = train_set.reshape((1000, 16, 15))"
   ],
   "metadata": {
    "collapsed": false,
    "ExecuteTime": {
     "end_time": "2024-02-03T13:22:50.359161Z",
     "start_time": "2024-02-03T13:22:50.351840Z"
    }
   },
   "id": "f9abb10e4a6a5497",
   "execution_count": 6
  },
  {
   "cell_type": "code",
   "outputs": [],
   "source": [
    "results = []\n",
    "for threshold in range(10):\n",
    "    results.append(circle_utils.get_circle_data(train_set, threshold=threshold / 10))"
   ],
   "metadata": {
    "collapsed": false,
    "ExecuteTime": {
     "end_time": "2024-02-03T13:22:50.685775Z",
     "start_time": "2024-02-03T13:22:50.358300Z"
    }
   },
   "id": "dd9cd0ff64a00bd8",
   "execution_count": 7
  },
  {
   "cell_type": "code",
   "outputs": [
    {
     "data": {
      "text/plain": "(10, 1000)"
     },
     "execution_count": 8,
     "metadata": {},
     "output_type": "execute_result"
    }
   ],
   "source": [
    "results=np.array(results)\n",
    "results.shape"
   ],
   "metadata": {
    "collapsed": false,
    "ExecuteTime": {
     "end_time": "2024-02-03T13:22:50.692032Z",
     "start_time": "2024-02-03T13:22:50.686183Z"
    }
   },
   "id": "eb3841b1252414c1",
   "execution_count": 8
  },
  {
   "cell_type": "code",
   "outputs": [
    {
     "name": "stdout",
     "output_type": "stream",
     "text": [
      "threshold 0.0: 91.8% expected number of circles \n",
      "threshold 0.1: 91.8% expected number of circles \n",
      "threshold 0.2: 95.7% expected number of circles \n",
      "threshold 0.3: 95.7% expected number of circles \n",
      "threshold 0.4: 97.3% expected number of circles \n",
      "threshold 0.5: 98.3% expected number of circles \n",
      "threshold 0.6: 98.3% expected number of circles \n",
      "threshold 0.7: 92.3% expected number of circles \n",
      "threshold 0.8: 92.3% expected number of circles \n",
      "threshold 0.9: 91.5% expected number of circles \n",
      "threshold with the best results: 0.5\n"
     ]
    }
   ],
   "source": [
    "optimal_threshold = circle_utils.find_optimal_threshold(train_set, thresholds_to_try=10, verbose=True)\n",
    "print(f'threshold with the best results: {optimal_threshold}')"
   ],
   "metadata": {
    "collapsed": false,
    "ExecuteTime": {
     "end_time": "2024-02-03T13:22:51.035360Z",
     "start_time": "2024-02-03T13:22:50.695476Z"
    }
   },
   "id": "1557ae5e70ada128",
   "execution_count": 9
  }
 ],
 "metadata": {
  "kernelspec": {
   "display_name": "Python 3 (ipykernel)",
   "language": "python",
   "name": "python3"
  },
  "language_info": {
   "codemirror_mode": {
    "name": "ipython",
    "version": 3
   },
   "file_extension": ".py",
   "mimetype": "text/x-python",
   "name": "python",
   "nbconvert_exporter": "python",
   "pygments_lexer": "ipython3",
   "version": "3.11.2"
  }
 },
 "nbformat": 4,
 "nbformat_minor": 5
}
